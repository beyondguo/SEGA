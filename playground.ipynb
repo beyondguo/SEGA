{
 "cells": [
  {
   "cell_type": "code",
   "execution_count": 1,
   "metadata": {},
   "outputs": [],
   "source": [
    "\n",
    "from transformers import pipeline\n",
    "sega = pipeline(\"text2text-generation\",model='beyond/sega-large', device=1)"
   ]
  },
  {
   "cell_type": "code",
   "execution_count": null,
   "metadata": {},
   "outputs": [],
   "source": [
    "'<mask> Conference on Empirical Methods <mask> submission of research papers <mask> Deep Learning <mask>'\n",
    "'Bad news: <mask> the European Union <mask> month by EU <mask> Farm Commissioner Franz <mask>'\n",
    "\n",
    "ss = ['nice weekend movie fun',\n",
    "      'Shanghai food water help citizens virus',\n",
    "      'England ship China ocean Paris cake people',\n",
    "      'joint great food great drinks greater staff',\n",
    "      'Wuhan hot-dry noodel delicious breakfirst China street Hubuxiang tour nice place',]"
   ]
  },
  {
   "cell_type": "code",
   "execution_count": 2,
   "metadata": {},
   "outputs": [],
   "source": [
    "# sega-chinese\n",
    "from transformers import BertTokenizer, BartForConditionalGeneration, Text2TextGenerationPipeline\n",
    "model_path = 'saved_models/bart-base-chinese-chinese_clean_passages_80m_with_sketch-10000000/checkpoint-31250'\n",
    "tokenizer = BertTokenizer.from_pretrained(model_path)\n",
    "sega_model = BartForConditionalGeneration.from_pretrained(model_path)\n",
    "sega_generator = Text2TextGenerationPipeline(sega_model, tokenizer, device=7)\n",
    "\n",
    "bart_model = BartForConditionalGeneration.from_pretrained('fnlp/bart-base-chinese')\n",
    "bart_generator = Text2TextGenerationPipeline(bart_model, tokenizer, device=6)"
   ]
  },
  {
   "cell_type": "code",
   "execution_count": 6,
   "metadata": {},
   "outputs": [
    {
     "data": {
      "text/plain": [
       "[{'generated_text': '今 天 的 篮 球 是 上 海 财 经 大 学 篮 球'}]"
      ]
     },
     "execution_count": 6,
     "metadata": {},
     "output_type": "execute_result"
    }
   ],
   "source": [
    "bart_generator(\"今天[MASK]篮球[MASK]上海财经大学[MASK]\", max_length=50, do_sample=False)"
   ]
  },
  {
   "cell_type": "code",
   "execution_count": 7,
   "metadata": {},
   "outputs": [
    {
     "data": {
      "text/plain": [
       "[{'generated_text': '今 天 的 篮 球 比 赛 是 由 上 海 财 经 大 学 举 办 的 。'}]"
      ]
     },
     "execution_count": 7,
     "metadata": {},
     "output_type": "execute_result"
    }
   ],
   "source": [
    "sega_generator(\"今天[MASK]篮球[MASK]上海财经大学[MASK]\", max_length=50, do_sample=False)"
   ]
  },
  {
   "cell_type": "code",
   "execution_count": 26,
   "metadata": {},
   "outputs": [
    {
     "name": "stdout",
     "output_type": "stream",
     "text": [
      "input sketch:\n",
      ">>>  今天[MASK]篮球[MASK]学校[MASK]\n",
      "BART-chinese output:\n",
      ">>>  今天是篮球运动员学校生日\n",
      "SEGA-chinese output:\n",
      ">>>  今天我们就来介绍一下中国篮球的发展历史，希望能够给更多的学校带来帮助。 \n",
      "\n",
      "input sketch:\n",
      ">>>  自然语言处理[MASK]谷歌[MASK]通用人工智能[MASK]\n",
      "BART-chinese output:\n",
      ">>>  自然语言处理是谷歌的通用人工智能技术\n",
      "SEGA-chinese output:\n",
      ">>>  自然语言处理是谷歌在通用人工智能领域的一项重要工作，它不仅能帮助用户解决语言问题，而且还能促进学习。 \n",
      "\n",
      "input sketch:\n",
      ">>>  我昨天做了一个梦[MASK]又遇见了她[MASK]曾经那段时光让人怀恋[MASK]\n",
      "BART-chinese output:\n",
      ">>>  我昨天做了一个梦今天又遇见了她我曾经那段时光让人怀恋不已\n",
      "SEGA-chinese output:\n",
      ">>>  我昨天做了一个梦，梦中又遇见了她，她和我说了一句话，我说：我想起了你，曾经那段时光让人怀恋，但是现在，我发现，我们之间的感情越来越淡了。 \n",
      "\n",
      "input sketch:\n",
      ">>>  [MASK]疫情[MASK]公园[MASK]散步[MASK]\n",
      "BART-chinese output:\n",
      ">>>  在疫情防控公园内散步游玩\n",
      "SEGA-chinese output:\n",
      ">>>  如果疫情严重，可以在公园里散步一下，这样就可以避免感染。 \n",
      "\n",
      "input sketch:\n",
      ">>>  [MASK]酸菜鱼火锅[MASK]很美味，味道绝了[MASK]周末真开心[MASK]\n",
      "BART-chinese output:\n",
      ">>>  这酸菜鱼火锅真的很美味，味道绝了这周末真开心啊\n",
      "SEGA-chinese output:\n",
      ">>>  这个酸菜鱼火锅真的是很美味，味道绝了，周末真开心，吃的太多了，不过吃起来还是不错的，我也很喜欢吃，吃完就回家了。 \n",
      "\n"
     ]
    }
   ],
   "source": [
    "sketchs = [\n",
    "    \"今天[MASK]篮球[MASK]学校[MASK]\",\n",
    "    \"自然语言处理[MASK]谷歌[MASK]通用人工智能[MASK]\",\n",
    "    \"我昨天做了一个梦[MASK]又遇见了她[MASK]曾经那段时光让人怀恋[MASK]\",\n",
    "    \"[MASK]疫情[MASK]公园[MASK]散步[MASK]\",\n",
    "    \"[MASK]酸菜鱼火锅[MASK]很美味，味道绝了[MASK]周末真开心[MASK]\"\n",
    "    \"\"\n",
    "]\n",
    "for sketch in sketchs:\n",
    "    print('input sketch:\\n>>> ', sketch)\n",
    "    print('BART-chinese output:\\n>>> ',bart_generator(sketch, max_length=100, do_sample=False)[0]['generated_text'].replace(' ',''))\n",
    "    print('SEGA-chinese output:\\n>>> ',sega_generator(sketch, max_length=100, do_sample=True, num_beams=3)[0]['generated_text'].replace(' ',''),'\\n')\n"
   ]
  },
  {
   "cell_type": "code",
   "execution_count": null,
   "metadata": {},
   "outputs": [],
   "source": []
  }
 ],
 "metadata": {
  "interpreter": {
   "hash": "98b0a9b7b4eaaa670588a142fd0a9b87eaafe866f1db4228be72b4211d12040f"
  },
  "kernelspec": {
   "display_name": "Python 3.8.3 64-bit ('base': conda)",
   "name": "python3"
  },
  "language_info": {
   "codemirror_mode": {
    "name": "ipython",
    "version": 3
   },
   "file_extension": ".py",
   "mimetype": "text/x-python",
   "name": "python",
   "nbconvert_exporter": "python",
   "pygments_lexer": "ipython3",
   "version": "3.8.3"
  }
 },
 "nbformat": 4,
 "nbformat_minor": 4
}